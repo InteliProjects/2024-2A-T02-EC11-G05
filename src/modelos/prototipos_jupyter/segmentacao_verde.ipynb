{
 "cells": [
  {
   "cell_type": "code",
   "execution_count": null,
   "id": "7ac69c26-388e-4497-b5b2-2c5e755237c9",
   "metadata": {},
   "outputs": [],
   "source": [
    "import cv2\n",
    "import numpy as np\n",
    "\n",
    "# Load the image\n",
    "image = cv2.imread('Rst/abundance_total.png')\n",
    "\n",
    "# Convert the image to HSV (Hue, Saturation, Value) color space\n",
    "hsv_image = cv2.cvtColor(image, cv2.COLOR_BGR2HSV)\n",
    "\n",
    "# Define the color threshold for detecting the ground\n",
    "# You may need to adjust these values based on your specific image\n",
    "lower_thresh = np.array([30, 40, 40])\n",
    "upper_thresh = np.array([90, 255, 255])\n",
    "\n",
    "# Create a mask using the threshold values\n",
    "mask = cv2.inRange(hsv_image, lower_thresh, upper_thresh)\n",
    "\n",
    "# Find contours in the mask\n",
    "contours, _ = cv2.findContours(mask, cv2.RETR_EXTERNAL, cv2.CHAIN_APPROX_SIMPLE)\n",
    "\n",
    "# Draw the contours on the original image (you can change the color and thickness)\n",
    "cv2.drawContours(image, contours, -1, (0, 0, 255), 3)\n",
    "\n",
    "# Save or display the resulting image\n",
    "cv2.imshow('Stained Image', image)\n",
    "cv2.imwrite('stained_forest_image.jpg', image)\n",
    "cv2.waitKey(0)\n",
    "cv2.destroyAllWindows()\n"
   ]
  },
  {
   "cell_type": "code",
   "execution_count": null,
   "id": "40aaf125-7be3-4222-84ad-c9b6dbfb5f24",
   "metadata": {},
   "outputs": [],
   "source": []
  }
 ],
 "metadata": {
  "kernelspec": {
   "display_name": "Python 3 (ipykernel)",
   "language": "python",
   "name": "python3"
  },
  "language_info": {
   "codemirror_mode": {
    "name": "ipython",
    "version": 3
   },
   "file_extension": ".py",
   "mimetype": "text/x-python",
   "name": "python",
   "nbconvert_exporter": "python",
   "pygments_lexer": "ipython3",
   "version": "3.10.0"
  }
 },
 "nbformat": 4,
 "nbformat_minor": 5
}
